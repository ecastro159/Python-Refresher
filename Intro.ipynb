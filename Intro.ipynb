{
 "cells": [
  {
   "attachments": {},
   "cell_type": "markdown",
   "metadata": {},
   "source": [
    "## Intro\n",
    "Small intro to basic Python "
   ]
  },
  {
   "cell_type": "code",
   "execution_count": 16,
   "metadata": {
    "tags": [
     "Hello Wolrd"
    ]
   },
   "outputs": [
    {
     "name": "stdout",
     "output_type": "stream",
     "text": [
      "Hello World\n"
     ]
    }
   ],
   "source": [
    "# This is how you comments\n",
    "'''\n",
    "or use the three '\n",
    "to do a multiline line comment\n",
    "'''\n",
    "\n",
    "def helloWorld():\n",
    "    print(\"Hello World\")\n",
    "\n",
    "helloWorld();"
   ]
  },
  {
   "attachments": {},
   "cell_type": "markdown",
   "metadata": {},
   "source": [
    "#### Student Exercise\n"
   ]
  },
  {
   "cell_type": "code",
   "execution_count": 19,
   "metadata": {
    "tags": [
     "Exercise"
    ]
   },
   "outputs": [
    {
     "name": "stdout",
     "output_type": "stream",
     "text": [
      "Erwin Castro ?? Engineer\n"
     ]
    }
   ],
   "source": [
    "def Intro(firstName, lastName, age, profession):\n",
    "    print(firstName +' '+ lastName +' '+ age +' '+ profession)\n",
    "\n",
    "firstName = input(\"Enter First Name\")\n",
    "lastName = input(\"Enter Last Name\")\n",
    "age = input(\"Enter age\")\n",
    "profession = input(\"Enter profession\")\n",
    "\n",
    "Intro(firstName,lastName,age,profession)\n"
   ]
  },
  {
   "attachments": {},
   "cell_type": "markdown",
   "metadata": {},
   "source": [
    "#### Working with String\n",
    "Using Variables in Strings\n",
    "* place letter **f** immediately before \" \"\n",
    "  * Called **f**-strings\n",
    "  * **f** stands for *format*"
   ]
  },
  {
   "cell_type": "code",
   "execution_count": 20,
   "metadata": {},
   "outputs": [
    {
     "name": "stdout",
     "output_type": "stream",
     "text": [
      "Erwin Castro\n",
      "Hello, ERWIN CASTRO\n"
     ]
    }
   ],
   "source": [
    "variable_string = f\"{firstName} {lastName}\"\n",
    "print(variable_string)\n",
    "\n",
    "message = f\"Hello, {variable_string.upper()}\"\n",
    "print(message)"
   ]
  },
  {
   "cell_type": "code",
   "execution_count": 34,
   "metadata": {},
   "outputs": [
    {
     "name": "stdout",
     "output_type": "stream",
     "text": [
      "Erwin.Castro06@gmail.com\n"
     ]
    }
   ],
   "source": [
    "# Exercise \n",
    "# Create a generates email address based on First/Last/Age \n",
    "import datetime\n",
    "\n",
    "\n",
    "def employeeName():\n",
    "    fullName = input(\"Enter your full name\").title()\n",
    "    name_List = fullName.split()\n",
    "    # firstName = name_List[0]\n",
    "    # lastName = name_List[1]\n",
    "    # print(f\"First name = {firstName} and Last name = {lastName}\")\n",
    "    return name_List\n",
    "    \n",
    "def year():\n",
    "    age = input(\"Enter your age\")\n",
    "    age = int(age)\n",
    "    current = datetime.datetime.now()\n",
    "    # print(type(current))\n",
    "    current_year = int(current.strftime(\"%Y\"))\n",
    "    birth_year = current_year-age\n",
    "    # print(birth_year)\n",
    "    return birth_year\n",
    "    \n",
    "def gen_Email():\n",
    "    name_List = employeeName()\n",
    "    birthYear = year()\n",
    "    userName = f\"{name_List[0]}.{name_List[1]}{str(birthYear)[-2:]}@gmail.com\"\n",
    "    return userName\n",
    "\n",
    "print(gen_Email())"
   ]
  }
 ],
 "metadata": {
  "kernelspec": {
   "display_name": "Python 3",
   "language": "python",
   "name": "python3"
  },
  "language_info": {
   "codemirror_mode": {
    "name": "ipython",
    "version": 3
   },
   "file_extension": ".py",
   "mimetype": "text/x-python",
   "name": "python",
   "nbconvert_exporter": "python",
   "pygments_lexer": "ipython3",
   "version": "3.10.9"
  },
  "orig_nbformat": 4
 },
 "nbformat": 4,
 "nbformat_minor": 2
}
