{
 "cells": [
  {
   "attachments": {},
   "cell_type": "markdown",
   "metadata": {},
   "source": [
    "## Intro\n",
    "Small intro to basic Python "
   ]
  },
  {
   "cell_type": "code",
   "execution_count": 7,
   "metadata": {
    "tags": [
     "Hello Wolrd"
    ]
   },
   "outputs": [
    {
     "name": "stdout",
     "output_type": "stream",
     "text": [
      "Hello World\n"
     ]
    }
   ],
   "source": [
    "# This is how you comments\n",
    "'''\n",
    "or use the three '\n",
    "to do a multiline line comment\n",
    "'''\n",
    "\n",
    "def helloWorld():\n",
    "    print(\"Hello World\")\n",
    "\n",
    "helloWorld();"
   ]
  },
  {
   "attachments": {},
   "cell_type": "markdown",
   "metadata": {},
   "source": [
    "#### Student Exercise\n"
   ]
  },
  {
   "cell_type": "code",
   "execution_count": 10,
   "metadata": {},
   "outputs": [
    {
     "name": "stdout",
     "output_type": "stream",
     "text": [
      "Erwin Castro 27 Engineer\n"
     ]
    }
   ],
   "source": [
    "def Intro(firstName, lastName, age, profession):\n",
    "    print(firstName +' '+ lastName +' '+ age +' '+ profession)\n",
    "\n",
    "firstName = input(\"Enter First Name\")\n",
    "lastName = input(\"Enter Last Name\")\n",
    "age = input(\"Enter age\")\n",
    "profession = input(\"Enter profession\")\n",
    "\n",
    "Intro(firstName,lastName,age,profession)\n"
   ]
  }
 ],
 "metadata": {
  "kernelspec": {
   "display_name": "Python 3",
   "language": "python",
   "name": "python3"
  },
  "language_info": {
   "codemirror_mode": {
    "name": "ipython",
    "version": 3
   },
   "file_extension": ".py",
   "mimetype": "text/x-python",
   "name": "python",
   "nbconvert_exporter": "python",
   "pygments_lexer": "ipython3",
   "version": "3.10.9"
  },
  "orig_nbformat": 4
 },
 "nbformat": 4,
 "nbformat_minor": 2
}
